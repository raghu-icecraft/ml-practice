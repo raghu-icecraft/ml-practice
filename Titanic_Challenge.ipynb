{
 "metadata": {
  "name": ""
 },
 "nbformat": 3,
 "nbformat_minor": 0,
 "worksheets": [
  {
   "cells": [
    {
     "cell_type": "heading",
     "level": 1,
     "metadata": {},
     "source": [
      "Titanic: Machine Learning   "
     ]
    },
    {
     "cell_type": "heading",
     "level": 2,
     "metadata": {},
     "source": [
      "Exploring Data"
     ]
    },
    {
     "cell_type": "code",
     "collapsed": false,
     "input": [
      "%matplotlib inline\n",
      "import pandas as pd\n",
      "import matplotlib.pyplot as plt\n",
      "import seaborn as sns\n",
      "import numpy as np\n",
      "\n",
      "# TODO: Dont hard code the path\n",
      "# Either define a variable to store the path or let input file be in the same folder\n",
      "# 2nd approach is better -- Did this now.\n",
      "\n",
      "train_df = pd.read_csv('train.csv')  # training data in a pandas' Data Frame object\n",
      "test_df  = pd.read_csv('test.csv')   # test data\n",
      "\n",
      "full_df = [train_df, test_df]        # complete pandas' Data Frame object"
     ],
     "language": "python",
     "metadata": {},
     "outputs": [],
     "prompt_number": 46
    },
    {
     "cell_type": "code",
     "collapsed": false,
     "input": [
      "# first 10 records\n",
      "train_df.head(10)"
     ],
     "language": "python",
     "metadata": {},
     "outputs": [
      {
       "html": [
        "<div style=\"max-width:1500px;overflow:auto;\">\n",
        "<style>\n",
        "    .dataframe thead tr:only-child th {\n",
        "        text-align: right;\n",
        "    }\n",
        "\n",
        "    .dataframe thead th {\n",
        "        text-align: left;\n",
        "    }\n",
        "\n",
        "    .dataframe tbody tr th {\n",
        "        vertical-align: top;\n",
        "    }\n",
        "</style>\n",
        "<table border=\"1\" class=\"dataframe\">\n",
        "  <thead>\n",
        "    <tr style=\"text-align: right;\">\n",
        "      <th></th>\n",
        "      <th>PassengerId</th>\n",
        "      <th>Survived</th>\n",
        "      <th>Pclass</th>\n",
        "      <th>Name</th>\n",
        "      <th>Sex</th>\n",
        "      <th>Age</th>\n",
        "      <th>SibSp</th>\n",
        "      <th>Parch</th>\n",
        "      <th>Ticket</th>\n",
        "      <th>Fare</th>\n",
        "      <th>Cabin</th>\n",
        "      <th>Embarked</th>\n",
        "    </tr>\n",
        "  </thead>\n",
        "  <tbody>\n",
        "    <tr>\n",
        "      <th>0</th>\n",
        "      <td>1</td>\n",
        "      <td>0</td>\n",
        "      <td>3</td>\n",
        "      <td>Braund, Mr. Owen Harris</td>\n",
        "      <td>male</td>\n",
        "      <td>22.0</td>\n",
        "      <td>1</td>\n",
        "      <td>0</td>\n",
        "      <td>A/5 21171</td>\n",
        "      <td>7.2500</td>\n",
        "      <td>NaN</td>\n",
        "      <td>S</td>\n",
        "    </tr>\n",
        "    <tr>\n",
        "      <th>1</th>\n",
        "      <td>2</td>\n",
        "      <td>1</td>\n",
        "      <td>1</td>\n",
        "      <td>Cumings, Mrs. John Bradley (Florence Briggs Th...</td>\n",
        "      <td>female</td>\n",
        "      <td>38.0</td>\n",
        "      <td>1</td>\n",
        "      <td>0</td>\n",
        "      <td>PC 17599</td>\n",
        "      <td>71.2833</td>\n",
        "      <td>C85</td>\n",
        "      <td>C</td>\n",
        "    </tr>\n",
        "    <tr>\n",
        "      <th>2</th>\n",
        "      <td>3</td>\n",
        "      <td>1</td>\n",
        "      <td>3</td>\n",
        "      <td>Heikkinen, Miss. Laina</td>\n",
        "      <td>female</td>\n",
        "      <td>26.0</td>\n",
        "      <td>0</td>\n",
        "      <td>0</td>\n",
        "      <td>STON/O2. 3101282</td>\n",
        "      <td>7.9250</td>\n",
        "      <td>NaN</td>\n",
        "      <td>S</td>\n",
        "    </tr>\n",
        "    <tr>\n",
        "      <th>3</th>\n",
        "      <td>4</td>\n",
        "      <td>1</td>\n",
        "      <td>1</td>\n",
        "      <td>Futrelle, Mrs. Jacques Heath (Lily May Peel)</td>\n",
        "      <td>female</td>\n",
        "      <td>35.0</td>\n",
        "      <td>1</td>\n",
        "      <td>0</td>\n",
        "      <td>113803</td>\n",
        "      <td>53.1000</td>\n",
        "      <td>C123</td>\n",
        "      <td>S</td>\n",
        "    </tr>\n",
        "    <tr>\n",
        "      <th>4</th>\n",
        "      <td>5</td>\n",
        "      <td>0</td>\n",
        "      <td>3</td>\n",
        "      <td>Allen, Mr. William Henry</td>\n",
        "      <td>male</td>\n",
        "      <td>35.0</td>\n",
        "      <td>0</td>\n",
        "      <td>0</td>\n",
        "      <td>373450</td>\n",
        "      <td>8.0500</td>\n",
        "      <td>NaN</td>\n",
        "      <td>S</td>\n",
        "    </tr>\n",
        "    <tr>\n",
        "      <th>5</th>\n",
        "      <td>6</td>\n",
        "      <td>0</td>\n",
        "      <td>3</td>\n",
        "      <td>Moran, Mr. James</td>\n",
        "      <td>male</td>\n",
        "      <td>NaN</td>\n",
        "      <td>0</td>\n",
        "      <td>0</td>\n",
        "      <td>330877</td>\n",
        "      <td>8.4583</td>\n",
        "      <td>NaN</td>\n",
        "      <td>Q</td>\n",
        "    </tr>\n",
        "    <tr>\n",
        "      <th>6</th>\n",
        "      <td>7</td>\n",
        "      <td>0</td>\n",
        "      <td>1</td>\n",
        "      <td>McCarthy, Mr. Timothy J</td>\n",
        "      <td>male</td>\n",
        "      <td>54.0</td>\n",
        "      <td>0</td>\n",
        "      <td>0</td>\n",
        "      <td>17463</td>\n",
        "      <td>51.8625</td>\n",
        "      <td>E46</td>\n",
        "      <td>S</td>\n",
        "    </tr>\n",
        "    <tr>\n",
        "      <th>7</th>\n",
        "      <td>8</td>\n",
        "      <td>0</td>\n",
        "      <td>3</td>\n",
        "      <td>Palsson, Master. Gosta Leonard</td>\n",
        "      <td>male</td>\n",
        "      <td>2.0</td>\n",
        "      <td>3</td>\n",
        "      <td>1</td>\n",
        "      <td>349909</td>\n",
        "      <td>21.0750</td>\n",
        "      <td>NaN</td>\n",
        "      <td>S</td>\n",
        "    </tr>\n",
        "    <tr>\n",
        "      <th>8</th>\n",
        "      <td>9</td>\n",
        "      <td>1</td>\n",
        "      <td>3</td>\n",
        "      <td>Johnson, Mrs. Oscar W (Elisabeth Vilhelmina Berg)</td>\n",
        "      <td>female</td>\n",
        "      <td>27.0</td>\n",
        "      <td>0</td>\n",
        "      <td>2</td>\n",
        "      <td>347742</td>\n",
        "      <td>11.1333</td>\n",
        "      <td>NaN</td>\n",
        "      <td>S</td>\n",
        "    </tr>\n",
        "    <tr>\n",
        "      <th>9</th>\n",
        "      <td>10</td>\n",
        "      <td>1</td>\n",
        "      <td>2</td>\n",
        "      <td>Nasser, Mrs. Nicholas (Adele Achem)</td>\n",
        "      <td>female</td>\n",
        "      <td>14.0</td>\n",
        "      <td>1</td>\n",
        "      <td>0</td>\n",
        "      <td>237736</td>\n",
        "      <td>30.0708</td>\n",
        "      <td>NaN</td>\n",
        "      <td>C</td>\n",
        "    </tr>\n",
        "  </tbody>\n",
        "</table>\n",
        "</div>"
       ],
       "metadata": {},
       "output_type": "pyout",
       "prompt_number": 47,
       "text": [
        "   PassengerId  Survived  Pclass  \\\n",
        "0            1         0       3   \n",
        "1            2         1       1   \n",
        "2            3         1       3   \n",
        "3            4         1       1   \n",
        "4            5         0       3   \n",
        "5            6         0       3   \n",
        "6            7         0       1   \n",
        "7            8         0       3   \n",
        "8            9         1       3   \n",
        "9           10         1       2   \n",
        "\n",
        "                                                Name     Sex   Age  SibSp  \\\n",
        "0                            Braund, Mr. Owen Harris    male  22.0      1   \n",
        "1  Cumings, Mrs. John Bradley (Florence Briggs Th...  female  38.0      1   \n",
        "2                             Heikkinen, Miss. Laina  female  26.0      0   \n",
        "3       Futrelle, Mrs. Jacques Heath (Lily May Peel)  female  35.0      1   \n",
        "4                           Allen, Mr. William Henry    male  35.0      0   \n",
        "5                                   Moran, Mr. James    male   NaN      0   \n",
        "6                            McCarthy, Mr. Timothy J    male  54.0      0   \n",
        "7                     Palsson, Master. Gosta Leonard    male   2.0      3   \n",
        "8  Johnson, Mrs. Oscar W (Elisabeth Vilhelmina Berg)  female  27.0      0   \n",
        "9                Nasser, Mrs. Nicholas (Adele Achem)  female  14.0      1   \n",
        "\n",
        "   Parch            Ticket     Fare Cabin Embarked  \n",
        "0      0         A/5 21171   7.2500   NaN        S  \n",
        "1      0          PC 17599  71.2833   C85        C  \n",
        "2      0  STON/O2. 3101282   7.9250   NaN        S  \n",
        "3      0            113803  53.1000  C123        S  \n",
        "4      0            373450   8.0500   NaN        S  \n",
        "5      0            330877   8.4583   NaN        Q  \n",
        "6      0             17463  51.8625   E46        S  \n",
        "7      1            349909  21.0750   NaN        S  \n",
        "8      2            347742  11.1333   NaN        S  \n",
        "9      0            237736  30.0708   NaN        C  "
       ]
      }
     ],
     "prompt_number": 47
    },
    {
     "cell_type": "code",
     "collapsed": false,
     "input": [
      "# last 10 records\n",
      "train_df.tail(10)"
     ],
     "language": "python",
     "metadata": {},
     "outputs": [
      {
       "html": [
        "<div style=\"max-width:1500px;overflow:auto;\">\n",
        "<style>\n",
        "    .dataframe thead tr:only-child th {\n",
        "        text-align: right;\n",
        "    }\n",
        "\n",
        "    .dataframe thead th {\n",
        "        text-align: left;\n",
        "    }\n",
        "\n",
        "    .dataframe tbody tr th {\n",
        "        vertical-align: top;\n",
        "    }\n",
        "</style>\n",
        "<table border=\"1\" class=\"dataframe\">\n",
        "  <thead>\n",
        "    <tr style=\"text-align: right;\">\n",
        "      <th></th>\n",
        "      <th>PassengerId</th>\n",
        "      <th>Survived</th>\n",
        "      <th>Pclass</th>\n",
        "      <th>Name</th>\n",
        "      <th>Sex</th>\n",
        "      <th>Age</th>\n",
        "      <th>SibSp</th>\n",
        "      <th>Parch</th>\n",
        "      <th>Ticket</th>\n",
        "      <th>Fare</th>\n",
        "      <th>Cabin</th>\n",
        "      <th>Embarked</th>\n",
        "    </tr>\n",
        "  </thead>\n",
        "  <tbody>\n",
        "    <tr>\n",
        "      <th>881</th>\n",
        "      <td>882</td>\n",
        "      <td>0</td>\n",
        "      <td>3</td>\n",
        "      <td>Markun, Mr. Johann</td>\n",
        "      <td>male</td>\n",
        "      <td>33.0</td>\n",
        "      <td>0</td>\n",
        "      <td>0</td>\n",
        "      <td>349257</td>\n",
        "      <td>7.8958</td>\n",
        "      <td>NaN</td>\n",
        "      <td>S</td>\n",
        "    </tr>\n",
        "    <tr>\n",
        "      <th>882</th>\n",
        "      <td>883</td>\n",
        "      <td>0</td>\n",
        "      <td>3</td>\n",
        "      <td>Dahlberg, Miss. Gerda Ulrika</td>\n",
        "      <td>female</td>\n",
        "      <td>22.0</td>\n",
        "      <td>0</td>\n",
        "      <td>0</td>\n",
        "      <td>7552</td>\n",
        "      <td>10.5167</td>\n",
        "      <td>NaN</td>\n",
        "      <td>S</td>\n",
        "    </tr>\n",
        "    <tr>\n",
        "      <th>883</th>\n",
        "      <td>884</td>\n",
        "      <td>0</td>\n",
        "      <td>2</td>\n",
        "      <td>Banfield, Mr. Frederick James</td>\n",
        "      <td>male</td>\n",
        "      <td>28.0</td>\n",
        "      <td>0</td>\n",
        "      <td>0</td>\n",
        "      <td>C.A./SOTON 34068</td>\n",
        "      <td>10.5000</td>\n",
        "      <td>NaN</td>\n",
        "      <td>S</td>\n",
        "    </tr>\n",
        "    <tr>\n",
        "      <th>884</th>\n",
        "      <td>885</td>\n",
        "      <td>0</td>\n",
        "      <td>3</td>\n",
        "      <td>Sutehall, Mr. Henry Jr</td>\n",
        "      <td>male</td>\n",
        "      <td>25.0</td>\n",
        "      <td>0</td>\n",
        "      <td>0</td>\n",
        "      <td>SOTON/OQ 392076</td>\n",
        "      <td>7.0500</td>\n",
        "      <td>NaN</td>\n",
        "      <td>S</td>\n",
        "    </tr>\n",
        "    <tr>\n",
        "      <th>885</th>\n",
        "      <td>886</td>\n",
        "      <td>0</td>\n",
        "      <td>3</td>\n",
        "      <td>Rice, Mrs. William (Margaret Norton)</td>\n",
        "      <td>female</td>\n",
        "      <td>39.0</td>\n",
        "      <td>0</td>\n",
        "      <td>5</td>\n",
        "      <td>382652</td>\n",
        "      <td>29.1250</td>\n",
        "      <td>NaN</td>\n",
        "      <td>Q</td>\n",
        "    </tr>\n",
        "    <tr>\n",
        "      <th>886</th>\n",
        "      <td>887</td>\n",
        "      <td>0</td>\n",
        "      <td>2</td>\n",
        "      <td>Montvila, Rev. Juozas</td>\n",
        "      <td>male</td>\n",
        "      <td>27.0</td>\n",
        "      <td>0</td>\n",
        "      <td>0</td>\n",
        "      <td>211536</td>\n",
        "      <td>13.0000</td>\n",
        "      <td>NaN</td>\n",
        "      <td>S</td>\n",
        "    </tr>\n",
        "    <tr>\n",
        "      <th>887</th>\n",
        "      <td>888</td>\n",
        "      <td>1</td>\n",
        "      <td>1</td>\n",
        "      <td>Graham, Miss. Margaret Edith</td>\n",
        "      <td>female</td>\n",
        "      <td>19.0</td>\n",
        "      <td>0</td>\n",
        "      <td>0</td>\n",
        "      <td>112053</td>\n",
        "      <td>30.0000</td>\n",
        "      <td>B42</td>\n",
        "      <td>S</td>\n",
        "    </tr>\n",
        "    <tr>\n",
        "      <th>888</th>\n",
        "      <td>889</td>\n",
        "      <td>0</td>\n",
        "      <td>3</td>\n",
        "      <td>Johnston, Miss. Catherine Helen \"Carrie\"</td>\n",
        "      <td>female</td>\n",
        "      <td>NaN</td>\n",
        "      <td>1</td>\n",
        "      <td>2</td>\n",
        "      <td>W./C. 6607</td>\n",
        "      <td>23.4500</td>\n",
        "      <td>NaN</td>\n",
        "      <td>S</td>\n",
        "    </tr>\n",
        "    <tr>\n",
        "      <th>889</th>\n",
        "      <td>890</td>\n",
        "      <td>1</td>\n",
        "      <td>1</td>\n",
        "      <td>Behr, Mr. Karl Howell</td>\n",
        "      <td>male</td>\n",
        "      <td>26.0</td>\n",
        "      <td>0</td>\n",
        "      <td>0</td>\n",
        "      <td>111369</td>\n",
        "      <td>30.0000</td>\n",
        "      <td>C148</td>\n",
        "      <td>C</td>\n",
        "    </tr>\n",
        "    <tr>\n",
        "      <th>890</th>\n",
        "      <td>891</td>\n",
        "      <td>0</td>\n",
        "      <td>3</td>\n",
        "      <td>Dooley, Mr. Patrick</td>\n",
        "      <td>male</td>\n",
        "      <td>32.0</td>\n",
        "      <td>0</td>\n",
        "      <td>0</td>\n",
        "      <td>370376</td>\n",
        "      <td>7.7500</td>\n",
        "      <td>NaN</td>\n",
        "      <td>Q</td>\n",
        "    </tr>\n",
        "  </tbody>\n",
        "</table>\n",
        "</div>"
       ],
       "metadata": {},
       "output_type": "pyout",
       "prompt_number": 48,
       "text": [
        "     PassengerId  Survived  Pclass                                      Name  \\\n",
        "881          882         0       3                        Markun, Mr. Johann   \n",
        "882          883         0       3              Dahlberg, Miss. Gerda Ulrika   \n",
        "883          884         0       2             Banfield, Mr. Frederick James   \n",
        "884          885         0       3                    Sutehall, Mr. Henry Jr   \n",
        "885          886         0       3      Rice, Mrs. William (Margaret Norton)   \n",
        "886          887         0       2                     Montvila, Rev. Juozas   \n",
        "887          888         1       1              Graham, Miss. Margaret Edith   \n",
        "888          889         0       3  Johnston, Miss. Catherine Helen \"Carrie\"   \n",
        "889          890         1       1                     Behr, Mr. Karl Howell   \n",
        "890          891         0       3                       Dooley, Mr. Patrick   \n",
        "\n",
        "        Sex   Age  SibSp  Parch            Ticket     Fare Cabin Embarked  \n",
        "881    male  33.0      0      0            349257   7.8958   NaN        S  \n",
        "882  female  22.0      0      0              7552  10.5167   NaN        S  \n",
        "883    male  28.0      0      0  C.A./SOTON 34068  10.5000   NaN        S  \n",
        "884    male  25.0      0      0   SOTON/OQ 392076   7.0500   NaN        S  \n",
        "885  female  39.0      0      5            382652  29.1250   NaN        Q  \n",
        "886    male  27.0      0      0            211536  13.0000   NaN        S  \n",
        "887  female  19.0      0      0            112053  30.0000   B42        S  \n",
        "888  female   NaN      1      2        W./C. 6607  23.4500   NaN        S  \n",
        "889    male  26.0      0      0            111369  30.0000  C148        C  \n",
        "890    male  32.0      0      0            370376   7.7500   NaN        Q  "
       ]
      }
     ],
     "prompt_number": 48
    },
    {
     "cell_type": "code",
     "collapsed": false,
     "input": [
      "# <Raghu> for now since we are starting, lets go with mean.\n",
      "# Here in this example, they have used a formula making use of mean and std dev of training data for Age.\n",
      "# https://www.kaggle.io/svf/560373/fcf6c03312081da830b2ab2cb26b4a1a/__results__.html#6.-Age\n",
      "# We can do these later to improve efficiency of learning and predicting. </Raghu>\n",
      "\n",
      "print(train_df['Age'].value_counts(dropna=False)) #How should we handle these? Drop NaNs? Replace wtih mean?"
     ],
     "language": "python",
     "metadata": {},
     "outputs": [
      {
       "output_type": "stream",
       "stream": "stdout",
       "text": [
        "NaN       177\n",
        " 24.00     30\n",
        " 22.00     27\n",
        " 18.00     26\n",
        " 28.00     25\n",
        " 19.00     25\n",
        " 30.00     25\n",
        " 21.00     24\n",
        " 25.00     23\n",
        " 36.00     22\n",
        " 29.00     20\n",
        " 32.00     18\n",
        " 26.00     18\n",
        " 35.00     18\n",
        " 27.00     18\n",
        " 16.00     17\n",
        " 31.00     17\n",
        " 34.00     15\n",
        " 23.00     15\n",
        " 33.00     15\n",
        " 20.00     15\n",
        " 39.00     14\n",
        " 17.00     13\n",
        " 42.00     13\n",
        " 40.00     13\n",
        " 45.00     12\n",
        " 38.00     11\n",
        " 50.00     10\n",
        " 2.00      10\n",
        " 4.00      10\n",
        "         ... \n",
        " 28.50      2\n",
        " 63.00      2\n",
        " 0.83       2\n",
        " 30.50      2\n",
        " 70.00      2\n",
        " 57.00      2\n",
        " 0.75       2\n",
        " 13.00      2\n",
        " 59.00      2\n",
        " 10.00      2\n",
        " 64.00      2\n",
        " 40.50      2\n",
        " 45.50      2\n",
        " 32.50      2\n",
        " 20.50      1\n",
        " 24.50      1\n",
        " 0.67       1\n",
        " 70.50      1\n",
        " 0.92       1\n",
        " 74.00      1\n",
        " 34.50      1\n",
        " 14.50      1\n",
        " 80.00      1\n",
        " 12.00      1\n",
        " 53.00      1\n",
        " 36.50      1\n",
        " 55.50      1\n",
        " 66.00      1\n",
        " 23.50      1\n",
        " 0.42       1\n",
        "Name: Age, Length: 89, dtype: int64\n"
       ]
      }
     ],
     "prompt_number": 49
    },
    {
     "cell_type": "code",
     "collapsed": false,
     "input": [
      "train_df.describe() #Only 38% of passengers survived, average age is 29.67."
     ],
     "language": "python",
     "metadata": {},
     "outputs": [
      {
       "html": [
        "<div style=\"max-width:1500px;overflow:auto;\">\n",
        "<style>\n",
        "    .dataframe thead tr:only-child th {\n",
        "        text-align: right;\n",
        "    }\n",
        "\n",
        "    .dataframe thead th {\n",
        "        text-align: left;\n",
        "    }\n",
        "\n",
        "    .dataframe tbody tr th {\n",
        "        vertical-align: top;\n",
        "    }\n",
        "</style>\n",
        "<table border=\"1\" class=\"dataframe\">\n",
        "  <thead>\n",
        "    <tr style=\"text-align: right;\">\n",
        "      <th></th>\n",
        "      <th>PassengerId</th>\n",
        "      <th>Survived</th>\n",
        "      <th>Pclass</th>\n",
        "      <th>Age</th>\n",
        "      <th>SibSp</th>\n",
        "      <th>Parch</th>\n",
        "      <th>Fare</th>\n",
        "    </tr>\n",
        "  </thead>\n",
        "  <tbody>\n",
        "    <tr>\n",
        "      <th>count</th>\n",
        "      <td>891.000000</td>\n",
        "      <td>891.000000</td>\n",
        "      <td>891.000000</td>\n",
        "      <td>714.000000</td>\n",
        "      <td>891.000000</td>\n",
        "      <td>891.000000</td>\n",
        "      <td>891.000000</td>\n",
        "    </tr>\n",
        "    <tr>\n",
        "      <th>mean</th>\n",
        "      <td>446.000000</td>\n",
        "      <td>0.383838</td>\n",
        "      <td>2.308642</td>\n",
        "      <td>29.699118</td>\n",
        "      <td>0.523008</td>\n",
        "      <td>0.381594</td>\n",
        "      <td>32.204208</td>\n",
        "    </tr>\n",
        "    <tr>\n",
        "      <th>std</th>\n",
        "      <td>257.353842</td>\n",
        "      <td>0.486592</td>\n",
        "      <td>0.836071</td>\n",
        "      <td>14.526497</td>\n",
        "      <td>1.102743</td>\n",
        "      <td>0.806057</td>\n",
        "      <td>49.693429</td>\n",
        "    </tr>\n",
        "    <tr>\n",
        "      <th>min</th>\n",
        "      <td>1.000000</td>\n",
        "      <td>0.000000</td>\n",
        "      <td>1.000000</td>\n",
        "      <td>0.420000</td>\n",
        "      <td>0.000000</td>\n",
        "      <td>0.000000</td>\n",
        "      <td>0.000000</td>\n",
        "    </tr>\n",
        "    <tr>\n",
        "      <th>25%</th>\n",
        "      <td>223.500000</td>\n",
        "      <td>0.000000</td>\n",
        "      <td>2.000000</td>\n",
        "      <td>20.125000</td>\n",
        "      <td>0.000000</td>\n",
        "      <td>0.000000</td>\n",
        "      <td>7.910400</td>\n",
        "    </tr>\n",
        "    <tr>\n",
        "      <th>50%</th>\n",
        "      <td>446.000000</td>\n",
        "      <td>0.000000</td>\n",
        "      <td>3.000000</td>\n",
        "      <td>28.000000</td>\n",
        "      <td>0.000000</td>\n",
        "      <td>0.000000</td>\n",
        "      <td>14.454200</td>\n",
        "    </tr>\n",
        "    <tr>\n",
        "      <th>75%</th>\n",
        "      <td>668.500000</td>\n",
        "      <td>1.000000</td>\n",
        "      <td>3.000000</td>\n",
        "      <td>38.000000</td>\n",
        "      <td>1.000000</td>\n",
        "      <td>0.000000</td>\n",
        "      <td>31.000000</td>\n",
        "    </tr>\n",
        "    <tr>\n",
        "      <th>max</th>\n",
        "      <td>891.000000</td>\n",
        "      <td>1.000000</td>\n",
        "      <td>3.000000</td>\n",
        "      <td>80.000000</td>\n",
        "      <td>8.000000</td>\n",
        "      <td>6.000000</td>\n",
        "      <td>512.329200</td>\n",
        "    </tr>\n",
        "  </tbody>\n",
        "</table>\n",
        "</div>"
       ],
       "metadata": {},
       "output_type": "pyout",
       "prompt_number": 50,
       "text": [
        "       PassengerId    Survived      Pclass         Age       SibSp  \\\n",
        "count   891.000000  891.000000  891.000000  714.000000  891.000000   \n",
        "mean    446.000000    0.383838    2.308642   29.699118    0.523008   \n",
        "std     257.353842    0.486592    0.836071   14.526497    1.102743   \n",
        "min       1.000000    0.000000    1.000000    0.420000    0.000000   \n",
        "25%     223.500000    0.000000    2.000000   20.125000    0.000000   \n",
        "50%     446.000000    0.000000    3.000000   28.000000    0.000000   \n",
        "75%     668.500000    1.000000    3.000000   38.000000    1.000000   \n",
        "max     891.000000    1.000000    3.000000   80.000000    8.000000   \n",
        "\n",
        "            Parch        Fare  \n",
        "count  891.000000  891.000000  \n",
        "mean     0.381594   32.204208  \n",
        "std      0.806057   49.693429  \n",
        "min      0.000000    0.000000  \n",
        "25%      0.000000    7.910400  \n",
        "50%      0.000000   14.454200  \n",
        "75%      0.000000   31.000000  \n",
        "max      6.000000  512.329200  "
       ]
      }
     ],
     "prompt_number": 50
    },
    {
     "cell_type": "code",
     "collapsed": false,
     "input": [
      "train_df.info()"
     ],
     "language": "python",
     "metadata": {},
     "outputs": [
      {
       "output_type": "stream",
       "stream": "stdout",
       "text": [
        "<class 'pandas.core.frame.DataFrame'>\n",
        "RangeIndex: 891 entries, 0 to 890\n",
        "Data columns (total 12 columns):\n",
        "PassengerId    891 non-null int64\n",
        "Survived       891 non-null int64\n",
        "Pclass         891 non-null int64\n",
        "Name           891 non-null object\n",
        "Sex            891 non-null object\n",
        "Age            714 non-null float64\n",
        "SibSp          891 non-null int64\n",
        "Parch          891 non-null int64\n",
        "Ticket         891 non-null object\n",
        "Fare           891 non-null float64\n",
        "Cabin          204 non-null object\n",
        "Embarked       889 non-null object\n",
        "dtypes: float64(2), int64(5), object(5)\n",
        "memory usage: 83.6+ KB\n"
       ]
      }
     ],
     "prompt_number": 51
    },
    {
     "cell_type": "code",
     "collapsed": false,
     "input": [
      "train_df['Pclass'].plot(kind = 'hist', rot=0, logx=True, logy=True) \n",
      "#Large majority 3rd class, small portion 1st, even smaleler portion 2nd"
     ],
     "language": "python",
     "metadata": {},
     "outputs": [
      {
       "metadata": {},
       "output_type": "pyout",
       "prompt_number": 52,
       "text": [
        "<matplotlib.axes._subplots.AxesSubplot at 0x7f2c229c22d0>"
       ]
      },
      {
       "metadata": {},
       "output_type": "display_data",
       "png": "[encoded data removed]",
       "text": [
        "<matplotlib.figure.Figure at 0x7f2c22cf9610>"
       ]
      }
     ],
     "prompt_number": 52
    },
    {
     "cell_type": "code",
     "collapsed": false,
     "input": [
      "train_df.plot(kind='scatter', x='Age', y='Fare') #Outliers?"
     ],
     "language": "python",
     "metadata": {},
     "outputs": [
      {
       "metadata": {},
       "output_type": "pyout",
       "prompt_number": 53,
       "text": [
        "<matplotlib.axes._subplots.AxesSubplot at 0x7f2c22350f10>"
       ]
      },
      {
       "metadata": {},
       "output_type": "display_data",
       "png": "[encoded data removed]",
       "text": [
        "<matplotlib.figure.Figure at 0x7f2c22673790>"
       ]
      }
     ],
     "prompt_number": 53
    },
    {
     "cell_type": "code",
     "collapsed": false,
     "input": [
      "sns.lmplot(x='Age', y='Fare', data=train_df, hue='Pclass') \n",
      "#Probably not outliers/errors in data, likely just very expensive tickets since they are 1st class passengers?"
     ],
     "language": "python",
     "metadata": {},
     "outputs": [
      {
       "metadata": {},
       "output_type": "pyout",
       "prompt_number": 54,
       "text": [
        "<seaborn.axisgrid.FacetGrid at 0x7f2c22cff110>"
       ]
      },
      {
       "metadata": {},
       "output_type": "display_data",
       "png": "[encoded data removed]",
       "text": [
        "<matplotlib.figure.Figure at 0x7f2c2221d490>"
       ]
      }
     ],
     "prompt_number": 54
    },
    {
     "cell_type": "code",
     "collapsed": false,
     "input": [
      "sns.residplot(x='Age', y='Fare', data=train_df, dropna=True)"
     ],
     "language": "python",
     "metadata": {},
     "outputs": [
      {
       "metadata": {},
       "output_type": "pyout",
       "prompt_number": 55,
       "text": [
        "<matplotlib.axes._subplots.AxesSubplot at 0x7f2c22163510>"
       ]
      },
      {
       "metadata": {},
       "output_type": "display_data",
       "png": "[encoded data removed]",
       "text": [
        "<matplotlib.figure.Figure at 0x7f2c22134310>"
       ]
      }
     ],
     "prompt_number": 55
    },
    {
     "cell_type": "code",
     "collapsed": false,
     "input": [
      "sns.boxplot(x='Pclass', y='Fare', data=train_df)"
     ],
     "language": "python",
     "metadata": {},
     "outputs": [
      {
       "metadata": {},
       "output_type": "pyout",
       "prompt_number": 56,
       "text": [
        "<matplotlib.axes._subplots.AxesSubplot at 0x7f2c220b8890>"
       ]
      },
      {
       "metadata": {},
       "output_type": "display_data",
       "png": "[encoded data removed]",
       "text": [
        "<matplotlib.figure.Figure at 0x7f2c220723d0>"
       ]
      }
     ],
     "prompt_number": 56
    },
    {
     "cell_type": "heading",
     "level": 2,
     "metadata": {},
     "source": [
      "Cleaning data"
     ]
    },
    {
     "cell_type": "heading",
     "level": 3,
     "metadata": {},
     "source": [
      "Replacing NaN values of Age"
     ]
    },
    {
     "cell_type": "code",
     "collapsed": false,
     "input": [
      "# </Rachel> I went to the link provided above for this calculation, but was confused by the Warning message\n",
      "# I found a similar method on Github that shows the distribution before and after the random values are generated </Rachel>\n",
      "\n",
      "fig, (axis1,axis2) = plt.subplots(1,2,figsize=(15,4))\n",
      "axis1.set_title('Original Age values - Titanic')\n",
      "axis2.set_title('New Age values - Titanic')\n",
      "\n",
      "# plot original Age values (drop null values and convert to int)\n",
      "train_df['Age'].dropna().astype(int).hist(bins=70, ax=axis1)\n",
      "\n",
      "# get average, std and number of NaN values\n",
      "average_age = train_df[\"Age\"].mean()\n",
      "std_age = train_df[\"Age\"].std()\n",
      "count_nan_age = train_df[\"Age\"].isnull().sum()\n",
      "\n",
      "# generate random numbers between (mean - std) & (mean + std)\n",
      "rand_age = np.random.randint(average_age - std_age, average_age + std_age, size = count_nan_age)\n",
      "\n",
      "# fill NaN values in Age column with random values generated\n",
      "age_slice = train_df[\"Age\"].copy()\n",
      "age_slice[np.isnan(age_slice)] = rand_age\n",
      "\n",
      "# plot imputed Age values\n",
      "age_slice.astype(int).hist(bins=70, ax=axis2)"
     ],
     "language": "python",
     "metadata": {},
     "outputs": [
      {
       "metadata": {},
       "output_type": "pyout",
       "prompt_number": 57,
       "text": [
        "<matplotlib.axes._subplots.AxesSubplot at 0x7f2c21f7d350>"
       ]
      },
      {
       "metadata": {},
       "output_type": "display_data",
       "png": "[encoded data removed]",
       "text": [
        "<matplotlib.figure.Figure at 0x7f2c22cff610>"
       ]
      }
     ],
     "prompt_number": 57
    },
    {
     "cell_type": "code",
     "collapsed": false,
     "input": [
      "# Distribution looks good - replace Age vector in original data with new values\n",
      "train_df[\"Age\"] = age_slice\n",
      "\n",
      "# Show number of missing Age values\n",
      "train_df[\"Age\"].isnull().sum()"
     ],
     "language": "python",
     "metadata": {},
     "outputs": [
      {
       "metadata": {},
       "output_type": "pyout",
       "prompt_number": 58,
       "text": [
        "0"
       ]
      }
     ],
     "prompt_number": 58
    },
    {
     "cell_type": "heading",
     "level": 3,
     "metadata": {},
     "source": [
      "Replacing NaN values of Embarked"
     ]
    },
    {
     "cell_type": "code",
     "collapsed": false,
     "input": [
      "# Fill missing values with most common value\n",
      "train_df['Embarked'] = train_df['Embarked'].fillna('S')\n",
      "\n",
      "# Show number of missing values\n",
      "train_df['Embarked'].isnull().sum()"
     ],
     "language": "python",
     "metadata": {},
     "outputs": [
      {
       "metadata": {},
       "output_type": "pyout",
       "prompt_number": 59,
       "text": [
        "0"
       ]
      }
     ],
     "prompt_number": 59
    },
    {
     "cell_type": "heading",
     "level": 3,
     "metadata": {},
     "source": [
      "Replacing missing Fare values"
     ]
    },
    {
     "cell_type": "code",
     "collapsed": false,
     "input": [
      "train_df['Fare'] = train_df.Fare.apply(lambda x: x if x>0 else pd.np.nan) # Replaced zeros with NaNs\n",
      "train_df['Fare'].isnull().sum()                                           # Checked to make sure they are now recognized as null"
     ],
     "language": "python",
     "metadata": {},
     "outputs": [
      {
       "metadata": {},
       "output_type": "pyout",
       "prompt_number": 60,
       "text": [
        "15"
       ]
      }
     ],
     "prompt_number": 60
    },
    {
     "cell_type": "code",
     "collapsed": false,
     "input": [
      "m = train_df.groupby('Pclass').mean().Fare # Calculated mean for each group/class\n",
      "m"
     ],
     "language": "python",
     "metadata": {},
     "outputs": [
      {
       "metadata": {},
       "output_type": "pyout",
       "prompt_number": 61,
       "text": [
        "Pclass\n",
        "1    86.148874\n",
        "2    21.358661\n",
        "3    13.787875\n",
        "Name: Fare, dtype: float64"
       ]
      }
     ],
     "prompt_number": 61
    },
    {
     "cell_type": "code",
     "collapsed": false,
     "input": [
      "train_df['Fare'] = train_df.apply(lambda row: m[row['Pclass']]    # Replaced NaNs for Fare with the mean value for each class\n",
      "                                       if pd.isnull(row['Fare'])\n",
      "                                       else row['Fare'],\n",
      "                           axis=1) \n",
      "train_df['Fare'].isnull().sum()                                   # Checked to make sure there are no longer missing values"
     ],
     "language": "python",
     "metadata": {},
     "outputs": [
      {
       "metadata": {},
       "output_type": "pyout",
       "prompt_number": 62,
       "text": [
        "0"
       ]
      }
     ],
     "prompt_number": 62
    },
    {
     "cell_type": "heading",
     "level": 3,
     "metadata": {},
     "source": [
      "Convert Embarked & Sex to numerical categories"
     ]
    },
    {
     "cell_type": "code",
     "collapsed": false,
     "input": [
      "# Transform Embarked (S = 0, C = 1, Q = 2)\n",
      "train_df['Embarked'] = train_df['Embarked'].map({'S': 0, 'C': 1, 'Q': 2}).astype(int)\n",
      "\n",
      "# Transform Sex (male = 0, female = 1)\n",
      "train_df['Sex'] = train_df['Sex'].map({'female': 1, 'male': 0}).astype(int)\n"
     ],
     "language": "python",
     "metadata": {},
     "outputs": [],
     "prompt_number": 63
    },
    {
     "cell_type": "heading",
     "level": 3,
     "metadata": {},
     "source": [
      "Specify variables for prediction model"
     ]
    },
    {
     "cell_type": "code",
     "collapsed": false,
     "input": [
      "# With the target variable \"Survived\", I would recommend starting with Sex, Age, Pclass and Fare as our predictors...\n",
      "# Let me know what you think!\n",
      "\n",
      "# <Raghu>  Yes, lets start with these we have to engineer the data (fill NaNs) and clean the data \n",
      "# to make it less overfitting. </Raghu>"
     ],
     "language": "python",
     "metadata": {},
     "outputs": [],
     "prompt_number": 64
    }
   ],
   "metadata": {}
  }
 ]
}